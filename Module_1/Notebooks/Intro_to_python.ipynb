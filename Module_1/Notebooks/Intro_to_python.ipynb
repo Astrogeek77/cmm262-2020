{
  "cells": [
    {
      "cell_type": "markdown",
      "source": [
        "\n",
        "Python is, just like R, an interpreted programming language. The emphasis behind Python is code readability and syntax which allows to write concepts in less lines of code."
      ],
      "metadata": {}
    },
    {
      "cell_type": "markdown",
      "source": [
        "## Python variable assignment:\n",
        "Be careful... different than R "
      ],
      "metadata": {}
    },
    {
      "cell_type": "code",
      "source": [
        "# Good\n",
        "# Bad"
      ],
      "outputs": [],
      "execution_count": 1,
      "metadata": {}
    },
    {
      "cell_type": "markdown",
      "source": [
        "## Python Data Types"
      ],
      "metadata": {}
    },
    {
      "cell_type": "markdown",
      "source": [
        "### Logical "
      ],
      "metadata": {}
    },
    {
      "cell_type": "code",
      "source": [
        "# boolean"
      ],
      "outputs": [],
      "execution_count": 2,
      "metadata": {}
    },
    {
      "cell_type": "markdown",
      "source": [
        "### Text:"
      ],
      "metadata": {}
    },
    {
      "cell_type": "code",
      "source": [
        " # string\n"
      ],
      "outputs": [
        {
          "output_type": "execute_result",
          "execution_count": 45,
          "data": {
            "text/plain": [
              "str"
            ]
          },
          "metadata": {}
        }
      ],
      "execution_count": 45,
      "metadata": {}
    },
    {
      "cell_type": "markdown",
      "source": [
        "### Numbers:"
      ],
      "metadata": {}
    },
    {
      "cell_type": "code",
      "source": [
        "# float\n",
        "\n",
        "# int"
      ],
      "outputs": [],
      "execution_count": 3,
      "metadata": {}
    },
    {
      "cell_type": "markdown",
      "source": [
        "### \"Vector\" - like"
      ],
      "metadata": {}
    },
    {
      "cell_type": "code",
      "source": [
        "# tuple - you cannot change it\n",
        "\n",
        "# list - you can change it"
      ],
      "outputs": [],
      "execution_count": 4,
      "metadata": {}
    },
    {
      "cell_type": "markdown",
      "source": [
        "#### (List operations)\n",
        "Lists are very useful and commonly used, there are several list operations"
      ],
      "metadata": {}
    },
    {
      "cell_type": "code",
      "source": [
        "# Get length of list\n",
        "# Append a value to end of list\n",
        "\n",
        "# Extend list by other list\n"
      ],
      "outputs": [],
      "execution_count": 5,
      "metadata": {}
    },
    {
      "cell_type": "markdown",
      "source": [
        "## Mapping"
      ],
      "metadata": {}
    },
    {
      "cell_type": "code",
      "source": [
        "# dictionary"
      ],
      "outputs": [],
      "execution_count": 6,
      "metadata": {}
    },
    {
      "cell_type": "markdown",
      "source": [
        "#### (Dictionary operations)\n",
        "Dictionaries are incredibly useful and have a fast look up time. I use dictionaries in almost any code I write!"
      ],
      "metadata": {}
    },
    {
      "cell_type": "markdown",
      "source": [
        "## Python function structure \n",
        "* Python functions always begin with: \n",
        "`def functionName(parameters):`  \n",
        "* You must use `return` to return any function output (unlike R)\n"
      ],
      "metadata": {}
    },
    {
      "cell_type": "code",
      "source": [],
      "outputs": [],
      "execution_count": 7,
      "metadata": {}
    },
    {
      "cell_type": "markdown",
      "source": [
        "# Python Packages"
      ],
      "metadata": {}
    },
    {
      "cell_type": "markdown",
      "source": [
        "Similar to R, Python has good default capabilities which can become very powerful once you start adding packages. Some of the most commonly used packages are:"
      ],
      "metadata": {}
    },
    {
      "cell_type": "code",
      "source": [
        "# used generally for mixed data types\n",
        "# used generally for pure numeric matrices\n",
        "# used for generating plots"
      ],
      "outputs": [],
      "execution_count": 7,
      "metadata": {}
    },
    {
      "cell_type": "markdown",
      "source": [
        "## Reading and writing files"
      ],
      "metadata": {}
    },
    {
      "cell_type": "markdown",
      "source": [
        "Write a file"
      ],
      "metadata": {}
    },
    {
      "cell_type": "code",
      "source": [
        "# to write to a file you have to treat a file object to which you write.\n",
        "# after finishing writing, make sure you close yor file object or else it's reasy for the output to get corrupted"
      ],
      "outputs": [],
      "execution_count": 8,
      "metadata": {}
    },
    {
      "cell_type": "markdown",
      "source": [
        "Read the file"
      ],
      "metadata": {}
    },
    {
      "cell_type": "code",
      "source": [],
      "outputs": [],
      "execution_count": 9,
      "metadata": {}
    },
    {
      "cell_type": "code",
      "source": [],
      "outputs": [],
      "execution_count": 9,
      "metadata": {}
    },
    {
      "cell_type": "markdown",
      "source": [
        "# Other things about Python"
      ],
      "metadata": {}
    },
    {
      "cell_type": "markdown",
      "source": [
        "## for loops"
      ],
      "metadata": {}
    },
    {
      "cell_type": "code",
      "source": [],
      "outputs": [],
      "execution_count": 9,
      "metadata": {}
    },
    {
      "cell_type": "markdown",
      "source": [
        "## if else statements"
      ],
      "metadata": {}
    },
    {
      "cell_type": "code",
      "source": [],
      "outputs": [],
      "execution_count": 9,
      "metadata": {}
    },
    {
      "cell_type": "code",
      "source": [],
      "outputs": [],
      "execution_count": null,
      "metadata": {}
    }
  ],
  "metadata": {
    "kernelspec": {
      "name": "python3",
      "language": "python",
      "display_name": "Python 3"
    },
    "language_info": {
      "name": "python",
      "version": "3.6.7",
      "mimetype": "text/x-python",
      "codemirror_mode": {
        "name": "ipython",
        "version": 3
      },
      "pygments_lexer": "ipython3",
      "nbconvert_exporter": "python",
      "file_extension": ".py"
    },
    "kernel_info": {
      "name": "python3"
    },
    "nteract": {
      "version": "0.15.0"
    }
  },
  "nbformat": 4,
  "nbformat_minor": 2
}