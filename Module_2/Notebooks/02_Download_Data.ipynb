{
  "cells": [
    {
      "cell_type": "markdown",
      "source": [
        "# Download fastq files from the web"
      ],
      "metadata": {}
    },
    {
      "cell_type": "markdown",
      "source": [
        "**Step 1: Download dataset**\n",
        "\n",
        "\n",
        "First we will download the data from the [ENCODE](https://www.encodeproject.org/) website. There are many different experiments and datasets available here. You can download both raw and fully processed data. For our learning purposes, we will download the raw data (fastq). Let's take a look at knockdown of TARDBP (or TDP-43) in the HepG2 cell line (data [here](https://www.encodeproject.org/experiments/ENCSR527QNC/), control [here](https://www.encodeproject.org/experiments/ENCSR264TUE/)). \n",
        "\n",
        "Let's find the fastq files now. Go down to the \"Files\" section and click on the \"File details\" tab. Under the \"Raw sequencing data\" we can find our fastq files. When you have found the link to the fastq files, right click on it and select \"copy Link Address\". ENCODE also has processed data files that have already been aligned (to different genome builds GRCh38 V28 or hg19) and quantified. In order to run the entire pipeline, we only want the raw reads stored in fastq.  \n",
        "\n",
        "Then on TSCC, put your file in the proper directory by first moving into the directory where you would like your data to end up, and then pasting the link you have copied after the \"wget\" command. (Remember this is what we did when we downloaded Anaconda). Keep in mind that this data is paired-end, so there are two reads per dataset (R1 and R2). So you will need to download two files per sample. \n",
        "\n",
        "    cd ~/raw_data/\n",
        "    \n",
        "Let's make a directory in raw_data specifically for the raw data for this project. \n",
        "\n",
        "    mkdir ~/raw_data/tardbp_shrna/\n",
        "    \n",
        "Then move into that directory before running wget. REMEMBER TO USE TABS TO EASILY MOVE BETWEEN DIRECTORIES. \n",
        "\n",
        "    cd ~/raw_data/tardbp_shrna/\n",
        "\n",
        "    wget https://www.encodeproject.org/files/ENCFF682WVW/@@download/ENCFF682WVW.fastq.gz\n",
        "    \n",
        "    wget https://www.encodeproject.org/files/ENCFF637BLZ/@@download/ENCFF637BLZ.fastq.gz\n",
        "    \n",
        "*NOTE* - to avoid a backlog on the head node with all of us downloading the same datasets, please make a softlinks to the files that I have already downloaded and stored them in our shared folder for later use:\n",
        "\n",
        "    ~/biom262_2019/Module_1/raw_data/\n",
        "    \n",
        "    \n",
        "Here you will find fastq files named:\n",
        "    \n",
        "    NT_cont_shRNA_HepG2_Rep1_R1.fastq.gz\n",
        "    NT_cont_shRNA_HepG2_Rep1_R2.fastq.gz\n",
        "    NT_cont_shRNA_HepG2_Rep2_R1.fastq.gz\n",
        "    NT_cont_shRNA_HepG2_Rep2_R2.fastq.gz\n",
        "    \n",
        "    \n",
        "    TARDBP_shRNA_HepG2_Rep1_R1.fastq.gz   \n",
        "    TARDBP_shRNA_HepG2_Rep1_R2.fastq.gz\n",
        "    TARDBP_shRNA_HepG2_Rep2_R1.fastq.gz\n",
        "    TARDBP_shRNA_HepG2_Rep2_R2.fastq.gz\n",
        "      \n",
        "\n",
        "\n",
        "\n",
        "***Note*** If you do plan on downloading datasets, be sure use mv to rename your files something more meaningful. It is too difficult to go throug the remainder of the pipeline steps with coded language:\n",
        "\n",
        "    mv ENCFF682WVW.fastq.gz TARDBP_shRNA_HepG2_Rep1_R1.fastq.gz\n",
        "    mv ENCFF637BLZ.fastq.gz TARDBP_shRNA_HepG2_Rep1_R2.fastq.gz\n",
        "    \n",
        "Additionally, make sure you also download the data from the control experiment.    "
      ],
      "metadata": {}
    },
    {
      "cell_type": "markdown",
      "source": [
        "We're using an ENCODE dataset because they are well standardized and monitored for quality, easy to access, and useful for pairwise comparison. However, if you would like to find out how to download other publicly available data, such as datasets available on the [Gene Expression Omnibus](\"https://www.ncbi.nlm.nih.gov/geo/\") (GEO), check out this [notebook](\"https://github.com/biom262/biom262-2018/blob/master/Module1_Unix_RNASeq/Tutorials/Download_data_from_GEO.ipynb\") in the Tutorials section."
      ],
      "metadata": {
        "collapsed": true
      }
    },
    {
      "cell_type": "code",
      "source": [],
      "outputs": [],
      "execution_count": null,
      "metadata": {
        "collapsed": true
      }
    }
  ],
  "metadata": {
    "kernelspec": {
      "name": "python3",
      "language": "python",
      "display_name": "Python 3"
    },
    "language_info": {
      "name": "python",
      "version": "3.6.7",
      "mimetype": "text/x-python",
      "codemirror_mode": {
        "name": "ipython",
        "version": 3
      },
      "pygments_lexer": "ipython3",
      "nbconvert_exporter": "python",
      "file_extension": ".py"
    },
    "kernel_info": {
      "name": "python3"
    },
    "nteract": {
      "version": "0.15.0"
    }
  },
  "nbformat": 4,
  "nbformat_minor": 1
}