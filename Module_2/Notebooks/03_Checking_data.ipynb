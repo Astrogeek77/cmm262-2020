{
  "cells": [
    {
      "cell_type": "markdown",
      "source": [
        "Before we do this, let's clone the GitHub repository into our directory:\n",
        "\n",
        "```\n",
        "git clone https://github.com/biom262/cmm262-2020.git\n",
        "```"
      ],
      "metadata": {}
    },
    {
      "cell_type": "markdown",
      "source": [
        "# Checking (quality of) sequencing data "
      ],
      "metadata": {}
    },
    {
      "cell_type": "markdown",
      "source": [
        "After downloading your sequencing data it is a good idea to briefly look at the files and check the sequencing quality. To take a look at the files themselves we can run the following command:"
      ],
      "metadata": {}
    },
    {
      "cell_type": "code",
      "source": [
        "cd ~/cmm262-2020/Module_2/Data/\n",
        "cat TARDBP_shRNA_HepG2_Rep1_R1.fastq.gz"
      ],
      "outputs": [],
      "execution_count": null,
      "metadata": {
        "collapsed": false,
        "outputHidden": false,
        "inputHidden": false
      }
    },
    {
      "cell_type": "markdown",
      "source": [
        "Hmm the above didn't work, can you think of why?"
      ],
      "metadata": {}
    },
    {
      "cell_type": "code",
      "source": [
        "zcat TARDBP_shRNA_HepG2_Rep1_R1.fastq.gz"
      ],
      "outputs": [],
      "execution_count": null,
      "metadata": {}
    },
    {
      "cell_type": "markdown",
      "source": [
        "When working with gzipped files (most fastq files are), use `zcat` to view the file."
      ],
      "metadata": {}
    },
    {
      "cell_type": "markdown",
      "source": [
        "You will now see the standard file format for sequencing data. A FASTQ file normally uses four lines per sequence.\n",
        "\n",
        "- Line 1 begins with a '@' character and is followed by a sequence identifier and an optional description (like a FASTA title line).\n",
        "- Line 2 is the raw sequence letters.\n",
        "- Line 3 begins with a '+' character and is optionally followed by the same sequence identifier (and any description) again.\n",
        "- Line 4 encodes the quality values for the sequence in Line 2, and must contain the same number of symbols as letters in the sequence.\n",
        "\n",
        "Since the file looks ok we can check its sequencing quality"
      ],
      "metadata": {}
    },
    {
      "cell_type": "markdown",
      "source": [
        "For sequencing quality 'fastqc' is a convienent program which quickly gives a useful overview of how well the sequencing run went. In our case we will look at one of the downloaded files from the TARDBP shRNA experiment from ENCODE.\n",
        "\n",
        "Since we are not using TSCC - let's use the example found here: \n",
        "```\n",
        "~/cmm262-2020/Module_2/Data/TARDBP_shRNA_HepG2_Rep1_R1_fastqc.html\n",
        "```"
      ],
      "metadata": {}
    },
    {
      "cell_type": "markdown",
      "source": [
        "Once fastqc is downloaded you can implement like this: \n",
        "```\n",
        "fastqc TARDBP_shRNA_HepG2_Rep1_R1.fastq.gz -o ~/fastqc_output \n",
        "```"
      ],
      "metadata": {}
    },
    {
      "cell_type": "markdown",
      "source": [
        "This will take a few minutes. The progress will continously be updated in the open terminal. After completion move the files to your local computer and examine the files."
      ],
      "metadata": {}
    }
  ],
  "metadata": {
    "kernelspec": {
      "name": "python3",
      "language": "python",
      "display_name": "Python 3"
    },
    "language_info": {
      "name": "python",
      "version": "3.6.7",
      "mimetype": "text/x-python",
      "codemirror_mode": {
        "name": "ipython",
        "version": 3
      },
      "pygments_lexer": "ipython3",
      "nbconvert_exporter": "python",
      "file_extension": ".py"
    },
    "kernel_info": {
      "name": "python3"
    },
    "nteract": {
      "version": "0.15.0"
    }
  },
  "nbformat": 4,
  "nbformat_minor": 2
}