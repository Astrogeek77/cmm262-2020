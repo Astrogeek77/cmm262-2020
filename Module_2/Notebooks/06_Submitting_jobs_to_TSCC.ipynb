{
  "cells": [
    {
      "cell_type": "markdown",
      "source": [
        "# Writing a shell script to submit a job to TSCC cluster"
      ],
      "metadata": {}
    },
    {
      "cell_type": "markdown",
      "source": [
        "## Make a template shell script\n",
        "\n",
        "First we will make fake template submitter script to reference for all of our other submission jobs. Since you will likely use a variation of the same PBS commands for all your processing needs, you can make a script that you copy and modify for each job as necessary. We are going to use Bash to submit these scripts to the cluster, so they have the file extension `.sh` \n",
        "\n",
        "```\n",
        "$ cd ~/\n",
        "$ mkdir scripts\n",
        "$ cd scripts\n",
        "$ vi template.sh\n",
        "i\n",
        "#!/bin/bash\n",
        "#PBS -q hotel\n",
        "#PBS -N jobname\n",
        "#PBS -l nodes=1:ppn=8\n",
        "#PBS -l walltime=1:00:00\n",
        "#PBS -o outputfile\n",
        "#PBS -e errorfile\n",
        "esc\n",
        ":wq\n",
        "```\n",
        "\n",
        "You can learn more about which submission parameters to include and what they do [here](http://www.sdsc.edu/support/user_guides/tscc-quick-start.html)."
      ],
      "metadata": {}
    },
    {
      "cell_type": "markdown",
      "source": [
        "## Make a shell script to submit STAR alignment as a job\n",
        "\n",
        "Since running STAR generate genome index with the human reference genome requires a lot of processing power, we would need to submit this command as a job to the cluster. Remember that handy fake submission script we made? Let's use it here by copying it and updating the necessary parameters:\n",
        "    \n",
        "Copy our template script into a new file with a meaningful name\n",
        "\n",
        "```\n",
        "$ cp ~/scripts/template.sh ~/scripts/star_index_genome.sh\n",
        "```\n",
        "    \n",
        "#### Q: \n",
        "What do you need to change in the PBS flags for this script?\n",
        "\n",
        "#### Q:\n",
        "How do you send yourself an email once the job is completed?\n",
        "\n",
        "*HINT - Remember you can read about submission parameters [here](http://www.sdsc.edu/support/user_guides/tscc-quick-start.html)*\n",
        "\n",
        "For this script, we will use a walltime of 3 hours, 1 node, and 16 processors.\n",
        "\n",
        "Take your STAR generate genome index command, add it to your .sh file below all the PBS flags (that you have already modified above to make unique for this script). "
      ],
      "metadata": {}
    },
    {
      "cell_type": "markdown",
      "source": [
        "## Submit your script to the cluster with:\n",
        "\n",
        "```\n",
        "$ qsub star_index_genome.sh\n",
        "```"
      ],
      "metadata": {}
    },
    {
      "cell_type": "markdown",
      "source": [
        "## How to check the status of your job\n",
        "\n",
        "```\n",
        "$ qstat -u username\n",
        "```\n",
        "    \n",
        "AKA:\n",
        "\n",
        "```\n",
        "$ qstat -u ucsd-train01\n",
        "```\n",
        "    \n",
        "Take a look at the status (The column labeled S). Q means your job is in the queue and has not started yet. R means your job is running (you will see the time updated according to how long it has been running). C means your job is complete. \n",
        "\n",
        "Once your job has been running for ~5-10 minutes without aborting, you likely are okay and it will run to completion. But this takes some time. So in the meantime, read up on the STAR mapping steps described below and write your script for mapping. However, you will have to wait until the generate genome step is complete before you submit your mapping job."
      ],
      "metadata": {}
    },
    {
      "cell_type": "markdown",
      "source": [
        "## How to delete your job\n",
        "\n",
        "If you realize after you submitted your script that you made a mistake and would like to delete your job, you can do that with:\n",
        "\n",
        "```\n",
        "qdel jobid##\n",
        "```\n",
        "    \n",
        "You can get the jobID# from the output of:\n",
        "\n",
        "```\n",
        "qstat -u username\n",
        "```"
      ],
      "metadata": {}
    },
    {
      "cell_type": "markdown",
      "source": [
        "**Making Aliases**\n",
        "\n",
        "If there are particular commands that you use a lot but are lengthy to type each time, you can make a handy shortcut for yourself by defining an alias in your ~/.bashrc file. For example, \n",
        "\n",
        "    $qstat -u ucsd-train01\n",
        "    \n",
        "is really annoying to type and I use it a lot. I want to make a shortcut so I can just use:\n",
        "\n",
        "    $ qme\n",
        "    \n",
        "To do this, open your bashrc and add the following line to the bottom of your file, BELOW the line that says #user specific aliases and functions:\n",
        "\n",
        "    $ vi ~/.bashrc\n",
        "    i\n",
        "    alias qme=\"qstat -u ucsd-train##\"\n",
        "    esc\n",
        "    :wq\n",
        "    \n",
        "*NOTE - Don't forget to substitute your specific number for the ##*\n",
        "\n",
        "Now try your new alias!\n",
        "\n",
        "    $ qme\n",
        "    \n",
        "What happened? Why did you get this error?\n",
        "\n",
        "    -bash: qme: command not found\n",
        "\n",
        "\n",
        "Your ~/.bashrc will only be read at the beginning of a login session. Here, we changed our ~/.bashrc, but have not logged out and logged back in. In order to activate the changes that you made to the file you will need to source your ~/.bashrc:\n",
        "\n",
        "    $ source ~/.bashrc\n",
        "    \n",
        "Now try it again:\n",
        "\n",
        "    $ qme"
      ],
      "metadata": {}
    }
  ],
  "metadata": {
    "kernel_info": {
      "name": "python3"
    },
    "language_info": {
      "name": "python",
      "version": "3.6.7",
      "mimetype": "text/x-python",
      "codemirror_mode": {
        "name": "ipython",
        "version": 3
      },
      "pygments_lexer": "ipython3",
      "nbconvert_exporter": "python",
      "file_extension": ".py"
    },
    "kernelspec": {
      "name": "python3",
      "language": "python",
      "display_name": "Python 3"
    },
    "nteract": {
      "version": "0.15.0"
    }
  },
  "nbformat": 4,
  "nbformat_minor": 0
}