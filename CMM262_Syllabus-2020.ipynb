{
 "cells": [
  {
   "cell_type": "markdown",
   "metadata": {
    "collapsed": true
   },
   "source": [
    "# CMM262: Quantitative Methods in Genetics and Genomics\n",
    "**University of California San Diego (UCSD)**  \n",
    "**Winter 2020**  \n",
    "\n",
    "### Contact us: \n",
    "Instructor: Dr. Alon Goren (agoren@ucsd.edu)   \n",
    "Teaching Assistant 1: Dana Nachmanson (dnachman@eng.ucsd.edu)  \n",
    "Teaching Assistant 2: Michelle Ragsac (mragsac@eng.ucsd.edu)  \n",
    "Teaching Assistant 3: Clarence Mah (ckmah@ucsd.edu)  \n",
    "  \n",
    "Lecture-specific contact info provided below.\n",
    "\n",
    "### Course Description \n",
    "Quantitative Methods in Genetics and Genomics is designed to teach experimental and analytical approaches in modern genetics and genomics, from experimental design through data analysis in each of several topic areas. Lecturers this year include Daniela Nachmanson, Scott Rifkin, Robert Morey, Olivier Harismendy, Alon Goren, Graham McVicker, Ondrej Libiger, Nicholas Schork, Hannah Carter, Pablo Tamayo, and William Kim.  \n",
    "*This course is a requirement for students in the UCSD Genetics Training Program. 4 units.*\n",
    "\n",
    "### Lecture Location\n",
    "Lectures will all be held at the Medical Education Telemedicine Building (MET) Upper Auditorium, Tuesdays and Thursdays from 9AM - 12PM. The only exception is the 01/23/2020 class, will be in Liebow Auditorium.\n",
    "\n",
    "\n",
    "### Homework Submission\n",
    "Homework will be assigned on Thursdays and due on the following Thursday throughout the quarter. There will not be an assignment every week. Assignments will be announced in the week they are assigned.  \n",
    "Submission of homework will be conducted **via GradeScope** and will be **due by 9 AM PST on Thursday mornings.**\n",
    "\n",
    "### Late submission policy\n",
    "If for whatever reason you cannot deliver the homework/test on the due date, you should report it at least a day before the due date.\n",
    "First late submission: 10% of the maximal number of points is deducted for every day or part of a day that an assignment is handed in too late.\n",
    "Subsequent late assignments: 20% of the maximal number of points is deducted for every day or part of a day that an assignment is handed in too late.\n",
    "Things happen, if you are experiencing a health/family emergency, please let us know and we can work something out.\n",
    "\n",
    "### Email policy\n",
    "Please use office hours for questions regarding the homework and/or tests. It can be difficult, especially with code and software, to troubleshoot your problems via email.\n",
    "If you must email regarding a question please keep emails from Monday-Friday 7am - 8pm. Otherwise there is no guarantee you will receive a response.\n",
    "\n",
    "### Office Hours\n",
    "**Time:** Tuesdays 12PM - 1PM after class  \n",
    "**Schedule:**  \n"
   ]
  },
  {
   "cell_type": "markdown",
   "metadata": {
    "collapsed": true
   },
   "source": [
    "## Syllabus\n",
    "\n",
    "| Module Num. | Date |  Lecture Room | Lecturer | Topic |\n",
    "| ----------- | ---- | ------------- | -------- | ----- |\n",
    "| **0** |  |  |  | Pre-class Setup |\n",
    "| **1** | 01/07/20 | MET Upper Auditorium | **Daniela Nachmanson** (dnachman@eng.ucsd.edu) | Intro to R I |\n",
    "|       | 01/09/20 | MET Upper Auditorium | Daniela Nachmanson | Intro to R II, RNA-Seq |\n",
    "| **2** | 01/14/20 | MET Upper Auditorium | Daniela Nachmanson | Unix, TSCC, Jupyter|\n",
    "|       | 01/16/20 | MET Upper Auditorium | Daniela Nachmanson | RNA-Seq |\n",
    "| **3** | 01/21/20 | MET Upper Auditorium | **Scott Rifkin** (sarifkin@ucsd.edu) | Statistics I |\n",
    "|       | 01/23/20 | *Liebow Audiorium*   | Scott Rifkin | Statistics II|\n",
    "| **4** | 01/28/20 | MET Upper Auditorium | **Robert Morey** (remorey@eng.ucsd.edu) | Single Cell Sequencing Analysis |\n",
    "|       | 01/30/20 | MET Upper Auditorium | Robert Morey | Single Cell Sequencing Analysis |\n",
    "| **5** | 02/04/20 | MET Upper Auditorium | **Alon Goren** (agoren@ucsd.edu)  | ChIP Binding |\n",
    "|       | 02/06/20 | MET Upper Auditorium | Alon Goren | ChIP Binding |\n",
    "| **6** | 02/11/20 | MET Upper Auditorium | **Pablo Tamayo** (ptamayo@ucsd.edu) | GSEA |\n",
    "|       | 02/13/20 | MET Upper Auditorium | **William Kim** (wkim@ucsd.edu) | GSEA |\n",
    "| **7** | 02/18/20 | MET Upper Auditorium | **Hannah Carter** (hcarte10@gmail.com) | Networks |\n",
    "|       | 02/20/20 | MET Upper Auditorium | Hannah Carter | Networks |\n",
    "| **8** | 02/25/20 | MET Upper Auditorium | **Graham McVicker** (gmcvicker@salk.edu) | Genome Wide Association Studies (GWAS) |\n",
    "|       | 02/27/20 | MET Upper Auditorium | Graham McVicker | GWAS |\n",
    "| **9** | 03/03/20 | MET Upper Auditorium | **Olivier Harismendy** (oharismendy@ucsd.edu) | Variant Calling.|\n",
    "|       | 03/05/20 | MET Upper Auditorium | **Olivier Harismendy** | Variant Calling.|\n",
    "| **10** | 03/10/20 | MET Upper Auditorium | **Nicholas Schork** (nschork@ucsd.edu) | Population Genetics |\n",
    "|       | 03/12/20 | MET Upper Auditorium | **Ondrej Libiger** (ondrej@mdrevolution.com) | PLINK   |\n",
    "|   -   | 03/17/20 | **MET 145** |  TAs | Take home final office hours |"
   ]
  },
  {
   "cell_type": "markdown",
   "metadata": {},
   "source": [
    "\n",
    "\n",
    "## Take Home Exams\n",
    "\n",
    "**Midterm:** Assigned on 2/06, Due on 2/17 at 11:59PM  \n",
    "**Final Exam:** Assigned on 3/12, Due on 3/24 at 11:59PM"
   ]
  },
  {
   "cell_type": "code",
   "execution_count": null,
   "metadata": {},
   "outputs": [],
   "source": []
  }
 ],
 "metadata": {
  "kernelspec": {
   "display_name": "Python 3",
   "language": "python",
   "name": "python3"
  },
  "language_info": {
   "codemirror_mode": {
    "name": "ipython",
    "version": 3
   },
   "file_extension": ".py",
   "mimetype": "text/x-python",
   "name": "python",
   "nbconvert_exporter": "python",
   "pygments_lexer": "ipython3",
   "version": "3.6.7"
  }
 },
 "nbformat": 4,
 "nbformat_minor": 1
}
