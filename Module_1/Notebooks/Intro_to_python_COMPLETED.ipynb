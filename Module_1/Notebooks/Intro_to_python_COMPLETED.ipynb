{
  "cells": [
    {
      "cell_type": "markdown",
      "source": [
        "\n",
        "Python is, just like R, an interpreted programming language. The emphasis behind Python is code readability and syntax which allows to write concepts in less lines of code."
      ],
      "metadata": {}
    },
    {
      "cell_type": "markdown",
      "source": [
        "## Python variable assignment:\n",
        "Be careful... different than R "
      ],
      "metadata": {}
    },
    {
      "cell_type": "code",
      "source": [
        "a = 2 # Good\n",
        "a <- 2 # Bad"
      ],
      "outputs": [
        {
          "output_type": "execute_result",
          "execution_count": 17,
          "data": {
            "text/plain": [
              "False"
            ]
          },
          "metadata": {}
        }
      ],
      "execution_count": 17,
      "metadata": {}
    },
    {
      "cell_type": "markdown",
      "source": [
        "## Python Data Types"
      ],
      "metadata": {}
    },
    {
      "cell_type": "markdown",
      "source": [
        "### Logical "
      ],
      "metadata": {}
    },
    {
      "cell_type": "code",
      "source": [
        "b = True # boolean\n",
        "type(b)"
      ],
      "outputs": [
        {
          "output_type": "execute_result",
          "execution_count": 44,
          "data": {
            "text/plain": [
              "bool"
            ]
          },
          "metadata": {}
        }
      ],
      "execution_count": 44,
      "metadata": {}
    },
    {
      "cell_type": "markdown",
      "source": [
        "### Text:"
      ],
      "metadata": {}
    },
    {
      "cell_type": "code",
      "source": [
        "s = 'a' # string\n",
        "type(s)"
      ],
      "outputs": [
        {
          "output_type": "execute_result",
          "execution_count": 45,
          "data": {
            "text/plain": [
              "str"
            ]
          },
          "metadata": {}
        }
      ],
      "execution_count": 45,
      "metadata": {}
    },
    {
      "cell_type": "markdown",
      "source": [
        "### Numbers:"
      ],
      "metadata": {}
    },
    {
      "cell_type": "code",
      "source": [
        "n = 2.1 # float\n",
        "type(n)\n"
      ],
      "outputs": [
        {
          "output_type": "execute_result",
          "execution_count": 3,
          "data": {
            "text/plain": [
              "float"
            ]
          },
          "metadata": {}
        }
      ],
      "execution_count": 3,
      "metadata": {}
    },
    {
      "cell_type": "code",
      "source": [
        "i = 2 # int\n",
        "type(i)"
      ],
      "outputs": [
        {
          "output_type": "execute_result",
          "execution_count": 4,
          "data": {
            "text/plain": [
              "int"
            ]
          },
          "metadata": {}
        }
      ],
      "execution_count": 4,
      "metadata": {
        "collapsed": false,
        "outputHidden": false,
        "inputHidden": false
      }
    },
    {
      "cell_type": "markdown",
      "source": [
        "### \"Vector\" - like"
      ],
      "metadata": {}
    },
    {
      "cell_type": "code",
      "source": [
        "t = (1,2,'t') # tuple - you cannot change it\n",
        "print(type(t))\n",
        "\n",
        "l = [1,2,'t'] # list - you can change it\n",
        "print(type(i))"
      ],
      "outputs": [
        {
          "output_type": "stream",
          "name": "stdout",
          "text": [
            "<class 'tuple'>\n",
            "<class 'int'>\n"
          ]
        }
      ],
      "execution_count": 47,
      "metadata": {}
    },
    {
      "cell_type": "markdown",
      "source": [
        "#### (List operations)\n",
        "Lists are very useful and commonly used, there are several list operations"
      ],
      "metadata": {}
    },
    {
      "cell_type": "code",
      "source": [
        "len(l) # Get length of list\n",
        "l.append(3) # Append a value to end of list\n",
        "print(l)\n",
        "l.extend[l] # Extend list by other list\n",
        "print(l)"
      ],
      "outputs": [
        {
          "output_type": "execute_result",
          "execution_count": 55,
          "data": {
            "text/plain": [
              "[1, 2, 't', 3, 3, 3, 3, 3]"
            ]
          },
          "metadata": {}
        }
      ],
      "execution_count": 55,
      "metadata": {}
    },
    {
      "cell_type": "markdown",
      "source": [
        "## Mapping"
      ],
      "metadata": {}
    },
    {
      "cell_type": "code",
      "source": [
        "d = {'coffee': 3, 'decaf': 'no'} # dictionary\n",
        "print(type(d))\n",
        "d['decaf']"
      ],
      "outputs": [
        {
          "output_type": "stream",
          "name": "stdout",
          "text": [
            "<class 'dict'>\n"
          ]
        },
        {
          "output_type": "execute_result",
          "execution_count": 5,
          "data": {
            "text/plain": [
              "'no'"
            ]
          },
          "metadata": {}
        }
      ],
      "execution_count": 5,
      "metadata": {}
    },
    {
      "cell_type": "code",
      "source": [
        "# get keys of a dictionary \n",
        "d.keys()\n",
        "\n",
        "# get values of a dictioary\n",
        "d.values()"
      ],
      "outputs": [
        {
          "output_type": "execute_result",
          "execution_count": 6,
          "data": {
            "text/plain": [
              "dict_values([3, 'no'])"
            ]
          },
          "metadata": {}
        }
      ],
      "execution_count": 6,
      "metadata": {
        "collapsed": false,
        "outputHidden": false,
        "inputHidden": false
      }
    },
    {
      "cell_type": "markdown",
      "source": [
        "#### (Dictionary operations)\n",
        "Dictionaries are incredibly useful and have a fast look up time. I use dictionaries in almost any code I write!"
      ],
      "metadata": {}
    },
    {
      "cell_type": "markdown",
      "source": [
        "## Python function structure \n",
        "* Python functions always begin with: \n",
        "`def functionName(parameters):`  \n",
        "* You must use `return` to return any function output (unlike R)\n"
      ],
      "metadata": {}
    },
    {
      "cell_type": "code",
      "source": [
        "def myfunc(x):\n",
        "    \n",
        "    sentence = \"Python is \" + x\n",
        "    print(sentence)\n",
        "\n",
        "myfunc(\"fantastic\")"
      ],
      "outputs": [
        {
          "output_type": "stream",
          "name": "stdout",
          "text": [
            "Python is fantastic\n"
          ]
        }
      ],
      "execution_count": 28,
      "metadata": {}
    },
    {
      "cell_type": "markdown",
      "source": [
        "# Python Packages"
      ],
      "metadata": {}
    },
    {
      "cell_type": "markdown",
      "source": [
        "Similar to R, Python has good default capabilities which can become very powerful once you start adding packages. Some of the most commonly used packages are:"
      ],
      "metadata": {}
    },
    {
      "cell_type": "code",
      "source": [
        "import pandas as pd  # used generally for mixed data types\n",
        "import numpy as np  # used generally for pure numeric matrices\n",
        "import matplotlib.pyplot as plt # used for generating plots"
      ],
      "outputs": [],
      "execution_count": 66,
      "metadata": {}
    },
    {
      "cell_type": "markdown",
      "source": [
        "## Reading and writing files"
      ],
      "metadata": {}
    },
    {
      "cell_type": "markdown",
      "source": [
        "Write a file"
      ],
      "metadata": {}
    },
    {
      "cell_type": "code",
      "source": [
        "# to write to a file you have to treat a file object to which you write.\n",
        "# after finishing writing, make sure you close yor file object or else it's reasy for the output to get corrupted\n",
        "f = open('test_writing.txt', 'w')\n",
        "f.write('This\\n')\n",
        "f.write('Is\\n')\n",
        "f.write('A\\n')\n",
        "f.write('Test!\\n')\n",
        "f.close()"
      ],
      "outputs": [],
      "execution_count": 8,
      "metadata": {}
    },
    {
      "cell_type": "markdown",
      "source": [
        "Read the file"
      ],
      "metadata": {}
    },
    {
      "cell_type": "code",
      "source": [
        "f = open('test_writing.txt', 'r')\n",
        "file_content_list = []\n",
        "for line in f:\n",
        "        file_content_list.append(line)\n",
        "f.close()"
      ],
      "outputs": [],
      "execution_count": 12,
      "metadata": {}
    },
    {
      "cell_type": "code",
      "source": [
        "file_content_list"
      ],
      "outputs": [
        {
          "output_type": "execute_result",
          "execution_count": 13,
          "data": {
            "text/plain": [
              "['This\\n', 'Is\\n', 'A\\n', 'Test!\\n']"
            ]
          },
          "metadata": {}
        }
      ],
      "execution_count": 13,
      "metadata": {
        "collapsed": false,
        "outputHidden": false,
        "inputHidden": false
      }
    },
    {
      "cell_type": "markdown",
      "source": [
        "I don't like the end of line characters in my list! Let's remove them\n"
      ],
      "metadata": {}
    },
    {
      "cell_type": "code",
      "source": [
        "# string.split(x) takes string and separates it by x into a list\n",
        "file_content_list[0].split('\\n')"
      ],
      "outputs": [
        {
          "output_type": "execute_result",
          "execution_count": 15,
          "data": {
            "text/plain": [
              "['This', '']"
            ]
          },
          "metadata": {}
        }
      ],
      "execution_count": 15,
      "metadata": {
        "collapsed": false,
        "outputHidden": false,
        "inputHidden": false
      }
    },
    {
      "cell_type": "code",
      "source": [
        "f = open('test_writing.txt', 'r')\n",
        "file_content_list = []\n",
        "for line in f:\n",
        "        file_content_list.append(line.split()[0])\n",
        "f.close()\n",
        "file_content_list"
      ],
      "outputs": [
        {
          "output_type": "execute_result",
          "execution_count": 17,
          "data": {
            "text/plain": [
              "['This', 'Is', 'A', 'Test!']"
            ]
          },
          "metadata": {}
        }
      ],
      "execution_count": 17,
      "metadata": {
        "collapsed": false,
        "outputHidden": false,
        "inputHidden": false
      }
    },
    {
      "cell_type": "markdown",
      "source": [
        "# Other things about Python"
      ],
      "metadata": {}
    },
    {
      "cell_type": "markdown",
      "source": [
        "## for loops"
      ],
      "metadata": {}
    },
    {
      "cell_type": "code",
      "source": [
        "for f in file_content_list:\n",
        "    print(f)"
      ],
      "outputs": [
        {
          "output_type": "stream",
          "name": "stdout",
          "text": [
            "This\n",
            "Is\n",
            "A\n",
            "Test!\n"
          ]
        }
      ],
      "execution_count": 74,
      "metadata": {}
    },
    {
      "cell_type": "markdown",
      "source": [
        "## if else statements"
      ],
      "metadata": {}
    },
    {
      "cell_type": "code",
      "source": [
        "if 2 > 3:\n",
        "    print('Please no')\n",
        "elif 2 == 3:\n",
        "    print('I really hope not')\n",
        "else:\n",
        "    print('Yay!')"
      ],
      "outputs": [
        {
          "output_type": "stream",
          "name": "stdout",
          "text": [
            "Yay!\n"
          ]
        }
      ],
      "execution_count": 75,
      "metadata": {}
    },
    {
      "cell_type": "code",
      "source": [],
      "outputs": [],
      "execution_count": null,
      "metadata": {}
    }
  ],
  "metadata": {
    "kernelspec": {
      "name": "python3",
      "language": "python",
      "display_name": "Python 3"
    },
    "language_info": {
      "name": "python",
      "version": "3.6.7",
      "mimetype": "text/x-python",
      "codemirror_mode": {
        "name": "ipython",
        "version": 3
      },
      "pygments_lexer": "ipython3",
      "nbconvert_exporter": "python",
      "file_extension": ".py"
    },
    "kernel_info": {
      "name": "python3"
    },
    "nteract": {
      "version": "0.15.0"
    }
  },
  "nbformat": 4,
  "nbformat_minor": 2
}