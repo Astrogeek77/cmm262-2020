{
  "cells": [
    {
      "cell_type": "markdown",
      "source": [
        "# Download fastq files from the web"
      ],
      "metadata": {}
    },
    {
      "cell_type": "markdown",
      "source": [
        "## Downloading data from ENCODE\n",
        "\n",
        "This is how you would download data from the [ENCODE](https://www.encodeproject.org/) website. There are many different experiments and datasets available here. You can download both raw and fully processed data. Let's take a look at HepG2 cell line conditions:\n",
        "- knockdown of TARDBP (or TDP-43) data [here](https://www.encodeproject.org/experiments/ENCSR527QNC/)\n",
        "- control [here](https://www.encodeproject.org/experiments/ENCSR264TUE/) \n",
        "\n",
        "Let's find the fastq files now. \n",
        "- Go down to the \"Files\" section\n",
        "- Click on the \"File details\" tab \n",
        "- Under the \"Raw sequencing data\" we can find our fastq files \n",
        "- When you have found the link to the fastq files, right click on the download link and select \"Copy Link Address\". \n",
        "\n",
        "### Example:\n",
        "    wget https://www.encodeproject.org/files/ENCFF682WVW/@@download/ENCFF682WVW.fastq.gz\n",
        "\n",
        "\n",
        "### Notes:\n",
        "\n",
        "- ENCODE also has processed data files that have already been aligned (to different genome builds GRCh38 V28 or hg19) and quantified. In order to run the entire pipeline, we only want the raw reads stored in fastq.  \n",
        "\n",
        "- *Keep in mind* that this data is paired-end, so there are two reads per dataset (R1 and R2). So you will need to download two files per sample. \n",
        "    \n"
      ],
      "metadata": {}
    },
    {
      "cell_type": "markdown",
      "source": [
        "## Using data already uploaded to the TSCC:\n",
        "\n",
        "To avoid backlog on the login node, for the purposes of this class we will be using pre-loaded data on the TSCC.\n",
        "\n",
        "fastq files are located in this folder:\n",
        "```\n",
        "/biom262_2019/Module_1/raw_data/\n",
        "```\n",
        "\n",
        "Here you will find fastq files named:\n",
        "\n",
        "```\n",
        "NT_cont_shRNA_HepG2_Rep1_R1.fastq.gz\n",
        "NT_cont_shRNA_HepG2_Rep1_R2.fastq.gz\n",
        "NT_cont_shRNA_HepG2_Rep2_R1.fastq.gz\n",
        "NT_cont_shRNA_HepG2_Rep2_R2.fastq.gz\n",
        "\n",
        "\n",
        "TARDBP_shRNA_HepG2_Rep1_R1.fastq.gz   \n",
        "TARDBP_shRNA_HepG2_Rep1_R2.fastq.gz\n",
        "TARDBP_shRNA_HepG2_Rep2_R1.fastq.gz\n",
        "TARDBP_shRNA_HepG2_Rep2_R2.fastq.gz\n",
        "```"
      ],
      "metadata": {}
    },
    {
      "cell_type": "markdown",
      "source": [
        "We're using an ENCODE dataset because they are well standardized and monitored for quality, easy to access, and useful for pairwise comparison. However, if you would like to find out how to download other publicly available data, such as datasets available on the [Gene Expression Omnibus](\"https://www.ncbi.nlm.nih.gov/geo/\") (GEO), check out this [notebook](\"https://github.com/biom262/biom262-2018/blob/master/Module1_Unix_RNASeq/Tutorials/Download_data_from_GEO.ipynb\") in the Tutorials section."
      ],
      "metadata": {
        "collapsed": true
      }
    },
    {
      "cell_type": "code",
      "source": [],
      "outputs": [],
      "execution_count": null,
      "metadata": {
        "collapsed": true
      }
    }
  ],
  "metadata": {
    "kernelspec": {
      "name": "python3",
      "language": "python",
      "display_name": "Python 3"
    },
    "language_info": {
      "name": "python",
      "version": "3.6.7",
      "mimetype": "text/x-python",
      "codemirror_mode": {
        "name": "ipython",
        "version": 3
      },
      "pygments_lexer": "ipython3",
      "nbconvert_exporter": "python",
      "file_extension": ".py"
    },
    "kernel_info": {
      "name": "python3"
    },
    "nteract": {
      "version": "0.15.0"
    }
  },
  "nbformat": 4,
  "nbformat_minor": 1
}