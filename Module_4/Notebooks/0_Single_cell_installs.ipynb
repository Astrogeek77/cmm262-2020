{
  "cells": [
    {
      "cell_type": "markdown",
      "source": [
        "# Installs for Module 4: Single Cell Analysis\n",
        "\n",
        "First please make sure you are logged into your TSCC account and have [installed miniconda following these instructions](https://github.com/biom262/cmm262-2020/blob/master/Module_2/Notebooks/Downloading_Miniconda.ipynb). "
      ],
      "metadata": {}
    },
    {
      "cell_type": "markdown",
      "source": [
        "1) Create conda environment for single cell analysis"
      ],
      "metadata": {}
    },
    {
      "cell_type": "code",
      "source": [
        "conda create --yes -n single_cell"
      ],
      "outputs": [],
      "execution_count": null,
      "metadata": {
        "collapsed": true
      }
    },
    {
      "cell_type": "markdown",
      "source": [
        "To activate this environment. Type:"
      ],
      "metadata": {}
    },
    {
      "cell_type": "code",
      "source": [
        "source activate single_cell"
      ],
      "outputs": [],
      "execution_count": null,
      "metadata": {
        "collapsed": true
      }
    },
    {
      "cell_type": "markdown",
      "source": [
        "Install several packages into this isolated environment (and not interfere with anything you have installed so far). You will have you type `y` to proceed."
      ],
      "metadata": {}
    },
    {
      "cell_type": "code",
      "source": [
        "conda install -c conda-forge scipy numpy jupyter scikit-learn seaborn pandas statsmodels ipykernel numba python-igraph louvain\n",
        "\n",
        "pip install gprofiler-official"
      ],
      "outputs": [],
      "execution_count": null,
      "metadata": {}
    },
    {
      "cell_type": "markdown",
      "source": [
        "Lastly, install scanpy itself:"
      ],
      "metadata": {}
    },
    {
      "cell_type": "code",
      "source": [
        "pip install scanpy"
      ],
      "outputs": [],
      "execution_count": null,
      "metadata": {}
    },
    {
      "cell_type": "markdown",
      "source": [
        "To make sure that the installation was successful open a interactive python window. \n",
        "> As a reminder, this can be done by simply typing `python`.\n",
        "\n",
        "Now try to load scanpy. If this works you have successfully installed scanpy and are set to go."
      ],
      "metadata": {}
    },
    {
      "cell_type": "code",
      "source": [
        "import scanpy as sc"
      ],
      "outputs": [],
      "execution_count": null,
      "metadata": {
        "collapsed": true
      }
    },
    {
      "cell_type": "markdown",
      "source": [
        "To exit the interactive python window you can type `quit()`"
      ],
      "metadata": {}
    },
    {
      "cell_type": "markdown",
      "source": [
        "To exit the single cell environment we created and go back to your default environment, you can simply type: "
      ],
      "metadata": {}
    },
    {
      "cell_type": "code",
      "source": [
        "source deactivate"
      ],
      "outputs": [],
      "execution_count": null,
      "metadata": {}
    }
  ],
  "metadata": {
    "kernelspec": {
      "display_name": "Python [conda env:environment]",
      "language": "python",
      "name": "conda-env-environment-py"
    },
    "language_info": {
      "codemirror_mode": {
        "name": "ipython",
        "version": 3
      },
      "file_extension": ".py",
      "mimetype": "text/x-python",
      "name": "python",
      "nbconvert_exporter": "python",
      "pygments_lexer": "ipython3",
      "version": "3.6.6"
    },
    "nteract": {
      "version": "0.15.0"
    }
  },
  "nbformat": 4,
  "nbformat_minor": 2
}